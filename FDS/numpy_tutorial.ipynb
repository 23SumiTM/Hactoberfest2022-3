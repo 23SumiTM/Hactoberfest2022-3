{
 "cells": [
  {
   "cell_type": "markdown",
   "id": "efcfd6a6",
   "metadata": {},
   "source": [
    "# 1.Installation of NumPy\n",
    "```C:\\Users\\Your Name>pip install numpy```\n",
    "# 2.Import NumPy\n",
    "Once NumPy is installed, import it in your applications by adding the importkeyword:\n",
    "```import numpy```"
   ]
  },
  {
   "cell_type": "code",
   "execution_count": 1,
   "id": "42c0a50a",
   "metadata": {},
   "outputs": [],
   "source": [
    "import numpy"
   ]
  },
  {
   "cell_type": "markdown",
   "id": "043d66be",
   "metadata": {},
   "source": [
    "# 3.Create a NumPy ndarray Object\n",
    "4. Create an array containing '1' as its items using the 'ones()' function from the 'numpy' module."
   ]
  },
  {
   "cell_type": "code",
   "execution_count": 4,
   "id": "4146a6b9",
   "metadata": {},
   "outputs": [
    {
     "name": "stdout",
     "output_type": "stream",
     "text": [
      "[[1. 1. 1.]\n",
      " [1. 1. 1.]\n",
      " [1. 1. 1.]]\n"
     ]
    }
   ],
   "source": [
    "array_ones = numpy.ones((3,3))\n",
    "print(array_ones)"
   ]
  },
  {
   "cell_type": "markdown",
   "id": "3b7b9c26",
   "metadata": {},
   "source": [
    "5. Using 'zeros()' function, create a NumPy array having 4 blocks, 2 rows and 3 columns. The items should be int data-type."
   ]
  },
  {
   "cell_type": "code",
   "execution_count": 21,
   "id": "ee20bffd",
   "metadata": {},
   "outputs": [
    {
     "name": "stdout",
     "output_type": "stream",
     "text": [
      "[[[0 0 0]\n",
      "  [0 0 0]]\n",
      "\n",
      " [[0 0 0]\n",
      "  [0 0 0]]\n",
      "\n",
      " [[0 0 0]\n",
      "  [0 0 0]]\n",
      "\n",
      " [[0 0 0]\n",
      "  [0 0 0]]]\n"
     ]
    }
   ],
   "source": [
    "array_zeros = numpy.zeros((4,2,3), dtype = int)\n",
    "print(array_zeros)"
   ]
  },
  {
   "cell_type": "markdown",
   "id": "111103c6",
   "metadata": {},
   "source": [
    "6. Create  a  one-dimensional  array  containing  numbers  between  5  and  20  using  the 'arrange()' function in the NumPy module."
   ]
  },
  {
   "cell_type": "code",
   "execution_count": 9,
   "id": "cc67b026",
   "metadata": {},
   "outputs": [
    {
     "name": "stdout",
     "output_type": "stream",
     "text": [
      "[ 5  6  7  8  9 10 11 12 13 14 15 16 17 18 19 20]\n"
     ]
    }
   ],
   "source": [
    "array_arange = numpy.arange(5,21)\n",
    "print(array_arange)"
   ]
  },
  {
   "cell_type": "markdown",
   "id": "c83c504a",
   "metadata": {},
   "source": [
    "7. Create  an  array  of  numbers  from1  to  24  such  that  the  difference  between  two consecutive  numbers  is  4.  Create  an  array  of  numbers  from  1  to  24  such  that  the difference between two consecutive numbers is 4 and each item is a float."
   ]
  },
  {
   "cell_type": "code",
   "execution_count": 23,
   "id": "a957dfb9",
   "metadata": {},
   "outputs": [
    {
     "name": "stdout",
     "output_type": "stream",
     "text": [
      "[ 1.  5.  9. 13. 17. 21.]\n"
     ]
    }
   ],
   "source": [
    "array_cons_diff = numpy.arange(1,25,4, dtype = float)\n",
    "print(array_cons_diff)"
   ]
  },
  {
   "cell_type": "markdown",
   "id": "6da76ff4",
   "metadata": {},
   "source": [
    "8. Create an array containing 4 numbers between 1 to 25."
   ]
  },
  {
   "cell_type": "code",
   "execution_count": 24,
   "id": "6e82e330",
   "metadata": {},
   "outputs": [
    {
     "name": "stdout",
     "output_type": "stream",
     "text": [
      "[ 1.  9. 17. 25.]\n"
     ]
    }
   ],
   "source": [
    "array_4_num = numpy.linspace(1,25,4)\n",
    "print(array_4_num)"
   ]
  },
  {
   "cell_type": "markdown",
   "id": "d6b2a6a6",
   "metadata": {},
   "source": [
    "9. Create  an  array  containing  10  numbers  between  1  and  25  such  that  the  difference between two consecutive numbers is constant."
   ]
  },
  {
   "cell_type": "code",
   "execution_count": 16,
   "id": "043a814b",
   "metadata": {},
   "outputs": [
    {
     "name": "stdout",
     "output_type": "stream",
     "text": [
      "[ 1.          3.66666667  6.33333333  9.         11.66666667 14.33333333\n",
      " 17.         19.66666667 22.33333333 25.        ]\n"
     ]
    }
   ],
   "source": [
    "array_10_num = numpy.linspace(1,25,10)\n",
    "print(array_10_num)"
   ]
  },
  {
   "cell_type": "markdown",
   "id": "559274c5",
   "metadata": {},
   "source": [
    "10. Create a three-dimensional NumPy array containing 40 random integers between 50 and 100"
   ]
  },
  {
   "cell_type": "code",
   "execution_count": 28,
   "id": "31ee6abc",
   "metadata": {},
   "outputs": [
    {
     "name": "stdout",
     "output_type": "stream",
     "text": [
      "[[[70 88]\n",
      "  [69 97]\n",
      "  [72 99]\n",
      "  [95 92]\n",
      "  [86 82]]\n",
      "\n",
      " [[64 99]\n",
      "  [84 55]\n",
      "  [57 64]\n",
      "  [58 74]\n",
      "  [60 78]]\n",
      "\n",
      " [[73 51]\n",
      "  [76 82]\n",
      "  [55 83]\n",
      "  [92 87]\n",
      "  [61 54]]\n",
      "\n",
      " [[88 62]\n",
      "  [53 83]\n",
      "  [98 74]\n",
      "  [53 64]\n",
      "  [87 96]]]\n"
     ]
    }
   ],
   "source": [
    "array_3d = numpy.random.randint(50,100,40)\n",
    "array_3d = array_3d.reshape(4,5,2)\n",
    "print(array_3d)"
   ]
  },
  {
   "cell_type": "markdown",
   "id": "e18b13c2",
   "metadata": {},
   "source": [
    "11. Create a list of natural numbers from 1 to 15using the list comprehension method. Then convert the list into a NumPy array using the array() function."
   ]
  },
  {
   "cell_type": "code",
   "execution_count": 18,
   "id": "fd64ced1",
   "metadata": {},
   "outputs": [
    {
     "name": "stdout",
     "output_type": "stream",
     "text": [
      "[1, 2, 3, 4, 5, 6, 7, 8, 9, 10, 11, 12, 13, 14, 15]\n"
     ]
    }
   ],
   "source": [
    "list_natural = [i for i in range(1,16)]\n",
    "print(list_natural)"
   ]
  },
  {
   "cell_type": "markdown",
   "id": "82ca5608",
   "metadata": {},
   "source": [
    "12. Create a function to check whether the input lenghts represent the lengths of the side of a triangle."
   ]
  },
  {
   "cell_type": "code",
   "execution_count": null,
   "id": "7893bdc8",
   "metadata": {},
   "outputs": [],
   "source": [
    "def check_triangle(a,b,c):\n",
    "    if a+b>c and a+c>b and b+c>a:\n",
    "        print(\"The lengths represent the lengths of the side of a triangle\")\n",
    "    else:\n",
    "        print(\"The lengths do not represent the lengths of the side of a triangle\")"
   ]
  },
  {
   "cell_type": "markdown",
   "id": "99ee184c",
   "metadata": {},
   "source": [
    "13. Create a function to calculate the area of a triangle using the Heron's formula."
   ]
  },
  {
   "cell_type": "code",
   "execution_count": null,
   "id": "a61fc75f",
   "metadata": {},
   "outputs": [],
   "source": [
    "def area_triangle(a,b,c):\n",
    "    s = (a+b+c)/2\n",
    "    area = (s*(s-a)*(s-b)*(s-c))**0.5\n",
    "    print(\"The area of the triangle is: \",area)"
   ]
  },
  {
   "cell_type": "markdown",
   "id": "e3973fdd",
   "metadata": {},
   "source": [
    "14. Write a program to perform following two tasks:\n",
    "- Print the square root of numbers in the list.\n",
    "- Compute the value of c in the equation c=(√a2+b2)."
   ]
  },
  {
   "cell_type": "code",
   "execution_count": 19,
   "id": "f0ba8e90",
   "metadata": {},
   "outputs": [
    {
     "name": "stdout",
     "output_type": "stream",
     "text": [
      "1.0\n",
      "2.0\n",
      "3.0\n",
      "4.0\n",
      "5.0\n",
      "6.0\n",
      "7.0\n",
      "8.0\n",
      "9.0\n",
      "10.0\n",
      "5.0\n"
     ]
    }
   ],
   "source": [
    "list_num = [1,4,9,16,25,36,49,64,81,100]\n",
    "for i in list_num:\n",
    "    print(i**0.5)\n",
    "\n",
    "a = 3\n",
    "b = 4\n",
    "c = (a**2+b**2)**0.5\n",
    "print(c)"
   ]
  },
  {
   "cell_type": "markdown",
   "id": "36171c9f",
   "metadata": {},
   "source": [
    "15. Write a program to change the dimension of an array (say my_arr =[1, 2, 3, 4, 5, 6, 7, 8, 9]) into a 3 X 3 (3 rows and 3 columns) array and convert this NumPy array into a list."
   ]
  },
  {
   "cell_type": "code",
   "execution_count": 20,
   "id": "c7f0ad38",
   "metadata": {},
   "outputs": [
    {
     "name": "stdout",
     "output_type": "stream",
     "text": [
      "[[1 2 3]\n",
      " [4 5 6]\n",
      " [7 8 9]]\n",
      "[[1, 2, 3], [4, 5, 6], [7, 8, 9]]\n"
     ]
    }
   ],
   "source": [
    "my_arr = [1, 2, 3, 4, 5, 6, 7, 8, 9]\n",
    "my_arr = numpy.array(my_arr)\n",
    "my_arr = my_arr.reshape(3,3)\n",
    "print(my_arr)\n",
    "my_arr = my_arr.tolist()\n",
    "print(my_arr)"
   ]
  }
 ],
 "metadata": {
  "kernelspec": {
   "display_name": "Python 3.8.10 64-bit",
   "language": "python",
   "name": "python3"
  },
  "language_info": {
   "codemirror_mode": {
    "name": "ipython",
    "version": 3
   },
   "file_extension": ".py",
   "mimetype": "text/x-python",
   "name": "python",
   "nbconvert_exporter": "python",
   "pygments_lexer": "ipython3",
   "version": "3.8.10"
  },
  "vscode": {
   "interpreter": {
    "hash": "916dbcbb3f70747c44a77c7bcd40155683ae19c65e1c03b4aa3499c5328201f1"
   }
  }
 },
 "nbformat": 4,
 "nbformat_minor": 5
}
